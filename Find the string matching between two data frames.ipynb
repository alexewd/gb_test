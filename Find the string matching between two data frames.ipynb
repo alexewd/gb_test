{
 "cells": [
  {
   "cell_type": "code",
   "execution_count": 2,
   "id": "5a3ffff8",
   "metadata": {},
   "outputs": [],
   "source": [
    "import pandas as pd\n",
    "from fuzzywuzzy import process, fuzz"
   ]
  },
  {
   "cell_type": "markdown",
   "id": "154691db",
   "metadata": {},
   "source": [
    "Использование пакета дедупликации pandas: https://pypi.org/project/pandas-dedupe/\n",
    "\n",
    "Вам нужно обучить классификатор с помощью человеческого ввода, а затем он будет использовать изученную настройку для сопоставления всего фрейма данных.\n",
    "\n",
    "сначала pip install pandas-dedupe и попробуйте это:"
   ]
  },
  {
   "cell_type": "code",
   "execution_count": 21,
   "id": "0fa9839c",
   "metadata": {},
   "outputs": [],
   "source": [
    "import pandas as pd\n",
    "import pandas_dedupe\n",
    "\n",
    "df1=pd.DataFrame({'ID':[56,98,175,172,150],\n",
    "                 'Name':['aaeessa', '1o7v9sM', 'HP. part 1', 'alena','Сахарный']})\n",
    "\n",
    "df2=pd.DataFrame({'ID':[12,76,762,2,160,6],\n",
    "                 'Name':['H.P paRt 1', 'alena','ахар', 'aa3esza', 'stakoverfl ', 'lo7v9Sm']})\n",
    "\n",
    "\n",
    "#initiate matching\n",
    "# df_final = pandas_dedupe.link_dataframes(df1, df2, ['Name'])\n",
    "\n",
    "# # reset index\n",
    "# df_final = df_final.reset_index(drop=True)\n",
    "\n",
    "# print result\n",
    "\n",
    "# print(df_final)\n",
    "\n",
    "# вы можете видеть, что совпадающим парам присваивается кластер и уровень достоверности.\n",
    "# непревзойденные nan. Теперь вы можете анализировать эту информацию, как хотите. возможно,\n",
    "# брать только результаты с уровнем достоверности, например, выше 80%."
   ]
  },
  {
   "cell_type": "code",
   "execution_count": 22,
   "id": "dd7c0a88",
   "metadata": {},
   "outputs": [],
   "source": [
    "# df.at[501,'column_name']\n",
    "# df.get_value(501,'column_name')\n",
    "\n",
    "matched_entities = []\n",
    "\n",
    "for r in df1.index:\n",
    "    name1 = df1._get_value(r,\"Name\")\n",
    "    for c in df2.index:\n",
    "        name2=df2._get_value(c,\"Name\")\n",
    "        matched_token=fuzz.partial_ratio(name1,name2)\n",
    "        if matched_token > 80:\n",
    "            matched_entities.append([name1,name2])\n",
    "\n",
    "df_partial_ratio = pd.DataFrame(columns=['A', 'B'], data=matched_entities)\n",
    "\n",
    "# In your DB if fuzz.partial_ratio doesn't work try fuzz.ratio or fuzz.token_sort_ratio.\n",
    "# These two can be implemented by changing one line of above code by below codes:\n",
    "\n",
    "# matched_token=fuzz.ratio(name1,name2)  !!!\n",
    "# OR\n",
    "\n",
    "# matched_token=fuzz.token_sort_ratio(name1,name2)  !!"
   ]
  },
  {
   "cell_type": "code",
   "execution_count": 23,
   "id": "7cf85e2a",
   "metadata": {},
   "outputs": [
    {
     "data": {
      "text/html": [
       "<div>\n",
       "<style scoped>\n",
       "    .dataframe tbody tr th:only-of-type {\n",
       "        vertical-align: middle;\n",
       "    }\n",
       "\n",
       "    .dataframe tbody tr th {\n",
       "        vertical-align: top;\n",
       "    }\n",
       "\n",
       "    .dataframe thead th {\n",
       "        text-align: right;\n",
       "    }\n",
       "</style>\n",
       "<table border=\"1\" class=\"dataframe\">\n",
       "  <thead>\n",
       "    <tr style=\"text-align: right;\">\n",
       "      <th></th>\n",
       "      <th>A</th>\n",
       "      <th>B</th>\n",
       "    </tr>\n",
       "  </thead>\n",
       "  <tbody>\n",
       "    <tr>\n",
       "      <th>0</th>\n",
       "      <td>alena</td>\n",
       "      <td>alena</td>\n",
       "    </tr>\n",
       "    <tr>\n",
       "      <th>1</th>\n",
       "      <td>Сахарный</td>\n",
       "      <td>ахар</td>\n",
       "    </tr>\n",
       "  </tbody>\n",
       "</table>\n",
       "</div>"
      ],
      "text/plain": [
       "          A      B\n",
       "0     alena  alena\n",
       "1  Сахарный   ахар"
      ]
     },
     "execution_count": 23,
     "metadata": {},
     "output_type": "execute_result"
    }
   ],
   "source": [
    "df_partial_ratio"
   ]
  },
  {
   "cell_type": "code",
   "execution_count": 24,
   "id": "097090f0",
   "metadata": {},
   "outputs": [],
   "source": [
    "# []\n",
    "\n",
    "def lookup(x, values):\n",
    "    for value in values:\n",
    "        if value.lower() in x.lower():\n",
    "            return value\n",
    "# Then apply this function to your DF2:\n",
    "\n",
    "df2['Name'] = df2['Name'].apply(lambda x: lookup(x, df1['Name']))"
   ]
  },
  {
   "cell_type": "code",
   "execution_count": 25,
   "id": "6296c669",
   "metadata": {},
   "outputs": [
    {
     "data": {
      "text/html": [
       "<div>\n",
       "<style scoped>\n",
       "    .dataframe tbody tr th:only-of-type {\n",
       "        vertical-align: middle;\n",
       "    }\n",
       "\n",
       "    .dataframe tbody tr th {\n",
       "        vertical-align: top;\n",
       "    }\n",
       "\n",
       "    .dataframe thead th {\n",
       "        text-align: right;\n",
       "    }\n",
       "</style>\n",
       "<table border=\"1\" class=\"dataframe\">\n",
       "  <thead>\n",
       "    <tr style=\"text-align: right;\">\n",
       "      <th></th>\n",
       "      <th>ID</th>\n",
       "      <th>Name</th>\n",
       "    </tr>\n",
       "  </thead>\n",
       "  <tbody>\n",
       "    <tr>\n",
       "      <th>0</th>\n",
       "      <td>12</td>\n",
       "      <td>None</td>\n",
       "    </tr>\n",
       "    <tr>\n",
       "      <th>1</th>\n",
       "      <td>76</td>\n",
       "      <td>alena</td>\n",
       "    </tr>\n",
       "    <tr>\n",
       "      <th>2</th>\n",
       "      <td>762</td>\n",
       "      <td>None</td>\n",
       "    </tr>\n",
       "    <tr>\n",
       "      <th>3</th>\n",
       "      <td>2</td>\n",
       "      <td>None</td>\n",
       "    </tr>\n",
       "    <tr>\n",
       "      <th>4</th>\n",
       "      <td>160</td>\n",
       "      <td>None</td>\n",
       "    </tr>\n",
       "    <tr>\n",
       "      <th>5</th>\n",
       "      <td>6</td>\n",
       "      <td>None</td>\n",
       "    </tr>\n",
       "  </tbody>\n",
       "</table>\n",
       "</div>"
      ],
      "text/plain": [
       "    ID   Name\n",
       "0   12   None\n",
       "1   76  alena\n",
       "2  762   None\n",
       "3    2   None\n",
       "4  160   None\n",
       "5    6   None"
      ]
     },
     "execution_count": 25,
     "metadata": {},
     "output_type": "execute_result"
    }
   ],
   "source": [
    "df2"
   ]
  },
  {
   "cell_type": "code",
   "execution_count": null,
   "id": "1df220bc",
   "metadata": {},
   "outputs": [],
   "source": []
  },
  {
   "cell_type": "code",
   "execution_count": null,
   "id": "8ae5ae2d",
   "metadata": {},
   "outputs": [],
   "source": []
  },
  {
   "cell_type": "code",
   "execution_count": null,
   "id": "06ef79d1",
   "metadata": {},
   "outputs": [],
   "source": []
  },
  {
   "cell_type": "code",
   "execution_count": null,
   "id": "7f4555d5",
   "metadata": {},
   "outputs": [],
   "source": []
  },
  {
   "cell_type": "code",
   "execution_count": null,
   "id": "7bd7250e",
   "metadata": {},
   "outputs": [],
   "source": []
  }
 ],
 "metadata": {
  "kernelspec": {
   "display_name": "Python 3",
   "language": "python",
   "name": "python3"
  },
  "language_info": {
   "codemirror_mode": {
    "name": "ipython",
    "version": 3
   },
   "file_extension": ".py",
   "mimetype": "text/x-python",
   "name": "python",
   "nbconvert_exporter": "python",
   "pygments_lexer": "ipython3",
   "version": "3.8.5"
  }
 },
 "nbformat": 4,
 "nbformat_minor": 5
}
