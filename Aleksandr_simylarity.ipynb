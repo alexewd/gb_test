{
 "cells": [
  {
   "cell_type": "code",
   "execution_count": 2,
   "id": "7237db1c",
   "metadata": {},
   "outputs": [],
   "source": [
    "import pandas as pd\n",
    "import numpy as np\n",
    "from fuzzywuzzy import process, fuzz\n",
    "\n",
    "# conda install -c conda-forge python-levenshtein\n",
    "\n",
    "# conda install -c conda-forge fuzzywuzzy\n",
    "\n",
    "# !!! for R conda install -c ryanfortinoc r-fuzzywuzzyr !! If Windows - install.packages('fuzzywuzzyR')"
   ]
  },
  {
   "cell_type": "code",
   "execution_count": 3,
   "id": "2d3090a5",
   "metadata": {},
   "outputs": [],
   "source": [
    "# df1=pd.DataFrame({'ID':[56,98,175,172,150],\n",
    "#                  'Name':['aaeessa', '1o7v9sM', 'HP. part 1', 'alena','Сахарный']})\n",
    "df1 = pd.read_csv('data/dftocsv_date_sample.csv', usecols=['Модель'], dtype={'Модель': 'str'})\n",
    "\n",
    "df2 = pd.read_excel('data/raw_x5_materials_sam.xlsx', usecols=['Краткий текст материала'], engine='openpyxl',dtype={'Краткий текст материала': 'str'})\n",
    "df1 = df1.astype(str)\n",
    "df2 = df2.astype(str)\n",
    "\n",
    "df1.dropna(axis='index',how='any', inplace=True)\n",
    "                                                  \n",
    "df2.dropna(axis='index',how='any', inplace=True)"
   ]
  },
  {
   "cell_type": "markdown",
   "id": "4253fcdb",
   "metadata": {},
   "source": [
    "Функция **fuzz.ratio** – простое посимвольное сравнение. Рейтинг 100 только если строки полностью равны, любое различие уменьшает рейтинг, будь то знаки препинания, регистр букв, порядок слов и так далее\n",
    "\n",
    "**fuzz.token_sort_ratio** решает эту проблему. Теперь акцент именно на сами слова, игнорируя регистр букв, порядок слов и даже знаки препинания по краям строки\n",
    "\n",
    "**fuzz.token_set_ratio** пошла еще дальше: она игнорирует повторяющиеся слова, учитывает только уникальные.\n",
    "\n",
    "**fuzz.partial_ratio** проверяет вхождение одной строки в другую. Лишние слова игнорируются, главное – оценить, чтобы ядро было одно и тоже.\n",
    "\n",
    "метод **fuzz.WRatio** который работает ближе к человеческой логике, комбинируя несколько методов в один алгоритм в определенными весами (отсюда и название WRatio = Weighted Ratio)."
   ]
  },
  {
   "cell_type": "code",
   "execution_count": 4,
   "id": "d0b19f26",
   "metadata": {},
   "outputs": [
    {
     "data": {
      "text/plain": [
       "(3000, 1)"
      ]
     },
     "execution_count": 4,
     "metadata": {},
     "output_type": "execute_result"
    }
   ],
   "source": [
    "df1.columns\n",
    "df1.shape"
   ]
  },
  {
   "cell_type": "code",
   "execution_count": 5,
   "id": "f7bdf791",
   "metadata": {},
   "outputs": [
    {
     "data": {
      "text/plain": [
       "(4438, 1)"
      ]
     },
     "execution_count": 5,
     "metadata": {},
     "output_type": "execute_result"
    }
   ],
   "source": [
    "df2.columns\n",
    "df2.shape"
   ]
  },
  {
   "cell_type": "code",
   "execution_count": 37,
   "id": "c7c9a6c5",
   "metadata": {},
   "outputs": [
    {
     "data": {
      "text/html": [
       "<div>\n",
       "<style scoped>\n",
       "    .dataframe tbody tr th:only-of-type {\n",
       "        vertical-align: middle;\n",
       "    }\n",
       "\n",
       "    .dataframe tbody tr th {\n",
       "        vertical-align: top;\n",
       "    }\n",
       "\n",
       "    .dataframe thead th {\n",
       "        text-align: right;\n",
       "    }\n",
       "</style>\n",
       "<table border=\"1\" class=\"dataframe\">\n",
       "  <thead>\n",
       "    <tr style=\"text-align: right;\">\n",
       "      <th></th>\n",
       "      <th>magnit</th>\n",
       "      <th>x5</th>\n",
       "    </tr>\n",
       "  </thead>\n",
       "  <tbody>\n",
       "    <tr>\n",
       "      <th>79</th>\n",
       "      <td>Нож канцелярский</td>\n",
       "      <td>Нож канцелярский 18мм 'OF01</td>\n",
       "    </tr>\n",
       "    <tr>\n",
       "      <th>11</th>\n",
       "      <td>Плакат</td>\n",
       "      <td>Плашка М10х1,25, шт</td>\n",
       "    </tr>\n",
       "    <tr>\n",
       "      <th>37</th>\n",
       "      <td>Дезинсекция</td>\n",
       "      <td>Дезинфекционн. коврик Эконом 50х65х1,5см</td>\n",
       "    </tr>\n",
       "    <tr>\n",
       "      <th>35</th>\n",
       "      <td>Плакат</td>\n",
       "      <td>Плашка М36х2, шт</td>\n",
       "    </tr>\n",
       "    <tr>\n",
       "      <th>245</th>\n",
       "      <td>Шайба 6</td>\n",
       "      <td>Шайба 14*20 медная 10280060, шт</td>\n",
       "    </tr>\n",
       "  </tbody>\n",
       "</table>\n",
       "</div>"
      ],
      "text/plain": [
       "               magnit                                        x5\n",
       "79   Нож канцелярский               Нож канцелярский 18мм 'OF01\n",
       "11             Плакат                       Плашка М10х1,25, шт\n",
       "37        Дезинсекция  Дезинфекционн. коврик Эконом 50х65х1,5см\n",
       "35             Плакат                          Плашка М36х2, шт\n",
       "245           Шайба 6           Шайба 14*20 медная 10280060, шт"
      ]
     },
     "execution_count": 37,
     "metadata": {},
     "output_type": "execute_result"
    }
   ],
   "source": [
    "matched_entities = []\n",
    "\n",
    "for r in df1.index:\n",
    "    name1 = df1._get_value(r,\"Модель\")\n",
    "    for c in df2.index:\n",
    "        name2 = df2._get_value(c,\"Краткий текст материала\")\n",
    "        matched_token=fuzz.partial_ratio(name1,name2)\n",
    "        if matched_token > 80:\n",
    "            matched_entities.append([name1,name2])\n",
    "\n",
    "df_partial_ratio = pd.DataFrame(columns=['magnit', 'x5'], data=matched_entities)\n",
    "\n",
    "df_partial_ratio.sample(5)"
   ]
  },
  {
   "cell_type": "code",
   "execution_count": 38,
   "id": "5ac6d9b5",
   "metadata": {},
   "outputs": [
    {
     "data": {
      "text/plain": [
       "(334, 2)"
      ]
     },
     "execution_count": 38,
     "metadata": {},
     "output_type": "execute_result"
    }
   ],
   "source": [
    "df_partial_ratio.shape # 80 %"
   ]
  },
  {
   "cell_type": "code",
   "execution_count": null,
   "id": "e47cd076",
   "metadata": {},
   "outputs": [],
   "source": [
    "# In your DB if fuzz.partial_ratio doesn't work try fuzz.ratio or fuzz.token_sort_ratio.\n",
    "# These two can be implemented by changing one line of above code by below codes:\n",
    "\n",
    "# matched_token=fuzz.ratio(name1,name2)  !!!\n",
    "# OR\n",
    "\n",
    "# matched_token=fuzz.token_sort_ratio(name1,name2)  !!"
   ]
  },
  {
   "cell_type": "code",
   "execution_count": 30,
   "id": "8363a363",
   "metadata": {},
   "outputs": [
    {
     "data": {
      "text/html": [
       "<div>\n",
       "<style scoped>\n",
       "    .dataframe tbody tr th:only-of-type {\n",
       "        vertical-align: middle;\n",
       "    }\n",
       "\n",
       "    .dataframe tbody tr th {\n",
       "        vertical-align: top;\n",
       "    }\n",
       "\n",
       "    .dataframe thead th {\n",
       "        text-align: right;\n",
       "    }\n",
       "</style>\n",
       "<table border=\"1\" class=\"dataframe\">\n",
       "  <thead>\n",
       "    <tr style=\"text-align: right;\">\n",
       "      <th></th>\n",
       "      <th>magnit</th>\n",
       "      <th>x5</th>\n",
       "    </tr>\n",
       "  </thead>\n",
       "  <tbody>\n",
       "    <tr>\n",
       "      <th>0</th>\n",
       "      <td>Резинка банковская 100г</td>\n",
       "      <td>Резинка банковская 100г диам.60мм</td>\n",
       "    </tr>\n",
       "  </tbody>\n",
       "</table>\n",
       "</div>"
      ],
      "text/plain": [
       "                    magnit                                 x5\n",
       "0  Резинка банковская 100г  Резинка банковская 100г диам.60мм"
      ]
     },
     "execution_count": 30,
     "metadata": {},
     "output_type": "execute_result"
    }
   ],
   "source": [
    "matched_entities = []\n",
    "\n",
    "for r in df1.index:\n",
    "    name1 = df1._get_value(r,\"Модель\")\n",
    "    for c in df2.index:\n",
    "        name2 = df2._get_value(c,\"Краткий текст материала\")\n",
    "#         matched_token=fuzz.partial_ratio(name1,name2)\n",
    "        matched_token=fuzz.ratio(name1,name2)\n",
    "        \n",
    "        if matched_token > 80:\n",
    "            matched_entities.append([name1,name2])\n",
    "            \n",
    "            \n",
    "df_ratio = pd.DataFrame(columns=['magnit', 'x5'], data=matched_entities)\n",
    "\n",
    "df_ratio.head(5)"
   ]
  },
  {
   "cell_type": "markdown",
   "id": "cd0f18e5",
   "metadata": {},
   "source": []
  },
  {
   "cell_type": "code",
   "execution_count": 35,
   "id": "1b97cb8b",
   "metadata": {},
   "outputs": [
    {
     "data": {
      "text/plain": [
       "(1, 2)"
      ]
     },
     "execution_count": 35,
     "metadata": {},
     "output_type": "execute_result"
    }
   ],
   "source": [
    "df_ratio.shape"
   ]
  },
  {
   "cell_type": "code",
   "execution_count": 6,
   "id": "caabc61a",
   "metadata": {},
   "outputs": [
    {
     "data": {
      "text/html": [
       "<div>\n",
       "<style scoped>\n",
       "    .dataframe tbody tr th:only-of-type {\n",
       "        vertical-align: middle;\n",
       "    }\n",
       "\n",
       "    .dataframe tbody tr th {\n",
       "        vertical-align: top;\n",
       "    }\n",
       "\n",
       "    .dataframe thead th {\n",
       "        text-align: right;\n",
       "    }\n",
       "</style>\n",
       "<table border=\"1\" class=\"dataframe\">\n",
       "  <thead>\n",
       "    <tr style=\"text-align: right;\">\n",
       "      <th></th>\n",
       "      <th>magnit</th>\n",
       "      <th>x5</th>\n",
       "    </tr>\n",
       "  </thead>\n",
       "  <tbody>\n",
       "    <tr>\n",
       "      <th>0</th>\n",
       "      <td>Резинка банковская 100г</td>\n",
       "      <td>Резинка банковская 100г диам.60мм</td>\n",
       "    </tr>\n",
       "  </tbody>\n",
       "</table>\n",
       "</div>"
      ],
      "text/plain": [
       "                    magnit                                 x5\n",
       "0  Резинка банковская 100г  Резинка банковская 100г диам.60мм"
      ]
     },
     "execution_count": 6,
     "metadata": {},
     "output_type": "execute_result"
    }
   ],
   "source": [
    "matched_entities = []\n",
    "\n",
    "for r in df1.index:\n",
    "    name1 = df1._get_value(r,\"Модель\")\n",
    "    for c in df2.index:\n",
    "        name2 = df2._get_value(c,\"Краткий текст материала\")\n",
    "#         matched_token=fuzz.partial_ratio(name1,name2)\n",
    "        matched_token=fuzz.token_sort_ratio(name1,name2)\n",
    "        if matched_token > 80:\n",
    "            matched_entities.append([name1,name2])\n",
    "\n",
    "            \n",
    "df_sort_ratio = pd.DataFrame(columns=['magnit', 'x5'], data=matched_entities)\n",
    "\n",
    "df_sort_ratio.head(5)"
   ]
  },
  {
   "cell_type": "code",
   "execution_count": 34,
   "id": "2c1e4ad5",
   "metadata": {},
   "outputs": [
    {
     "data": {
      "text/plain": [
       "(1, 2)"
      ]
     },
     "execution_count": 34,
     "metadata": {},
     "output_type": "execute_result"
    }
   ],
   "source": [
    "df_sort_ratio.shape"
   ]
  },
  {
   "cell_type": "code",
   "execution_count": 32,
   "id": "80e632d4",
   "metadata": {},
   "outputs": [
    {
     "data": {
      "text/html": [
       "<div>\n",
       "<style scoped>\n",
       "    .dataframe tbody tr th:only-of-type {\n",
       "        vertical-align: middle;\n",
       "    }\n",
       "\n",
       "    .dataframe tbody tr th {\n",
       "        vertical-align: top;\n",
       "    }\n",
       "\n",
       "    .dataframe thead th {\n",
       "        text-align: right;\n",
       "    }\n",
       "</style>\n",
       "<table border=\"1\" class=\"dataframe\">\n",
       "  <thead>\n",
       "    <tr style=\"text-align: right;\">\n",
       "      <th></th>\n",
       "      <th>magnit</th>\n",
       "      <th>x5</th>\n",
       "    </tr>\n",
       "  </thead>\n",
       "  <tbody>\n",
       "    <tr>\n",
       "      <th>12588</th>\n",
       "      <td>Плакат А4</td>\n",
       "      <td>Тетрадь 80л. клетка А4 ATTACHE</td>\n",
       "    </tr>\n",
       "    <tr>\n",
       "      <th>11422</th>\n",
       "      <td>Веник</td>\n",
       "      <td>Ценникодержатель зеленый 39х1000</td>\n",
       "    </tr>\n",
       "    <tr>\n",
       "      <th>8822</th>\n",
       "      <td>Плакат</td>\n",
       "      <td>1329833 / 2026123 Sc Втулка торм/рычага</td>\n",
       "    </tr>\n",
       "    <tr>\n",
       "      <th>15349</th>\n",
       "      <td>Плакат</td>\n",
       "      <td>Пасатижи в лонжете 3 предм КТ 9-40103GP</td>\n",
       "    </tr>\n",
       "    <tr>\n",
       "      <th>2474</th>\n",
       "      <td>Плакат</td>\n",
       "      <td>Папка с завязками 280г/м2 мелов.</td>\n",
       "    </tr>\n",
       "  </tbody>\n",
       "</table>\n",
       "</div>"
      ],
      "text/plain": [
       "          magnit                                       x5\n",
       "12588  Плакат А4           Тетрадь 80л. клетка А4 ATTACHE\n",
       "11422      Веник         Ценникодержатель зеленый 39х1000\n",
       "8822      Плакат  1329833 / 2026123 Sc Втулка торм/рычага\n",
       "15349     Плакат  Пасатижи в лонжете 3 предм КТ 9-40103GP\n",
       "2474      Плакат         Папка с завязками 280г/м2 мелов."
      ]
     },
     "execution_count": 32,
     "metadata": {},
     "output_type": "execute_result"
    }
   ],
   "source": [
    "matched_entities = []\n",
    "\n",
    "for r in df1.index:\n",
    "    name1 = df1._get_value(r,\"Модель\")\n",
    "    for c in df2.index:\n",
    "        name2 = df2._get_value(c,\"Краткий текст материала\")\n",
    "        matched_token=fuzz.partial_ratio(name1,name2)\n",
    "        if matched_token > 65:\n",
    "            matched_entities.append([name1,name2])\n",
    "\n",
    "df_partial_ratio_65 = pd.DataFrame(columns=['magnit', 'x5'], data=matched_entities)\n",
    "\n",
    "df_partial_ratio_65.sample(5)"
   ]
  },
  {
   "cell_type": "code",
   "execution_count": 33,
   "id": "1731ef0a",
   "metadata": {},
   "outputs": [
    {
     "data": {
      "text/plain": [
       "(17160, 2)"
      ]
     },
     "execution_count": 33,
     "metadata": {},
     "output_type": "execute_result"
    }
   ],
   "source": [
    "df_partial_ratio_65.shape"
   ]
  },
  {
   "cell_type": "markdown",
   "id": "073b8b29",
   "metadata": {},
   "source": [
    "###"
   ]
  },
  {
   "cell_type": "code",
   "execution_count": 41,
   "id": "53c4e9ca",
   "metadata": {},
   "outputs": [
    {
     "name": "stdout",
     "output_type": "stream",
     "text": [
      "time taken for astype(str) : 7.498556852340698 seconds\n",
      "time taken for values.astype(str) : 6.256083011627197 seconds\n",
      "time taken for map(str) : 2.3471829891204834 seconds\n",
      "time taken for apply(str) : 2.3345823287963867 seconds\n"
     ]
    }
   ],
   "source": [
    "#importing libraries\n",
    "import numpy as np\n",
    "import pandas as pd\n",
    "import time\n",
    "\n",
    "#creating four sample dataframes using dummy data\n",
    "df1 = pd.DataFrame(np.random.randint(1, 1000, size =(10000000, 1)), columns =['A'])\n",
    "df2 = pd.DataFrame(np.random.randint(1, 1000, size =(10000000, 1)), columns =['A'])\n",
    "df3 = pd.DataFrame(np.random.randint(1, 1000, size =(10000000, 1)), columns =['A'])\n",
    "df4 = pd.DataFrame(np.random.randint(1, 1000, size =(10000000, 1)), columns =['A'])\n",
    "\n",
    "#applying astype(str)\n",
    "time1 = time.time()\n",
    "df1['A'] = df1['A'].astype(str)\n",
    "print('time taken for astype(str) : ' + str(time.time()-time1) + ' seconds')\n",
    "\n",
    "#applying values.astype(str)\n",
    "time2 = time.time()\n",
    "df2['A'] = df2['A'].values.astype(str)\n",
    "print('time taken for values.astype(str) : ' + str(time.time()-time2) + ' seconds')\n",
    "\n",
    "#applying map(str)\n",
    "time3 = time.time()\n",
    "df3['A'] = df3['A'].map(str)\n",
    "print('time taken for map(str) : ' + str(time.time()-time3) + ' seconds')\n",
    "\n",
    "#applying apply(str)\n",
    "time4 = time.time()\n",
    "df4['A'] = df4['A'].apply(str)\n",
    "print('time taken for apply(str) : ' + str(time.time()-time4) + ' seconds')"
   ]
  },
  {
   "cell_type": "code",
   "execution_count": null,
   "id": "a22fb8f3",
   "metadata": {},
   "outputs": [],
   "source": []
  },
  {
   "cell_type": "code",
   "execution_count": null,
   "id": "e716f887",
   "metadata": {},
   "outputs": [],
   "source": []
  },
  {
   "cell_type": "code",
   "execution_count": null,
   "id": "1a1bc67b",
   "metadata": {},
   "outputs": [],
   "source": []
  },
  {
   "cell_type": "code",
   "execution_count": null,
   "id": "470ed260",
   "metadata": {},
   "outputs": [],
   "source": []
  },
  {
   "cell_type": "code",
   "execution_count": null,
   "id": "c2cfef22",
   "metadata": {},
   "outputs": [],
   "source": []
  },
  {
   "cell_type": "code",
   "execution_count": null,
   "id": "22aa40dc",
   "metadata": {},
   "outputs": [],
   "source": []
  },
  {
   "cell_type": "code",
   "execution_count": null,
   "id": "37d9ef80",
   "metadata": {},
   "outputs": [],
   "source": []
  }
 ],
 "metadata": {
  "kernelspec": {
   "display_name": "Python 3",
   "language": "python",
   "name": "python3"
  },
  "language_info": {
   "codemirror_mode": {
    "name": "ipython",
    "version": 3
   },
   "file_extension": ".py",
   "mimetype": "text/x-python",
   "name": "python",
   "nbconvert_exporter": "python",
   "pygments_lexer": "ipython3",
   "version": "3.8.5"
  }
 },
 "nbformat": 4,
 "nbformat_minor": 5
}
