{
 "cells": [
  {
   "cell_type": "code",
   "execution_count": 1,
   "id": "9f622096",
   "metadata": {},
   "outputs": [],
   "source": [
    "import pandas as pd\n",
    "import numpy as np\n",
    "from fuzzywuzzy import process, fuzz"
   ]
  },
  {
   "cell_type": "code",
   "execution_count": 2,
   "id": "cbc02def",
   "metadata": {},
   "outputs": [],
   "source": [
    "# https://tirinox.ru/fuzzywuzzy-python/"
   ]
  },
  {
   "cell_type": "code",
   "execution_count": 3,
   "id": "2c2159bf",
   "metadata": {},
   "outputs": [
    {
     "name": "stdout",
     "output_type": "stream",
     "text": [
      "['гайка 4 ГОСТ-1828 оцинкованная ...', 'Болты на 10', 'БОЛТ']\n"
     ]
    }
   ],
   "source": [
    "arr = ['Гайка на 4', 'гайка 4 ГОСТ-1828 оцинкованная', 'Болты на 10', 'гайка 4 ГОСТ-1828 оцинкованная ...', 'БОЛТ']\n",
    "\n",
    "print(list(process.dedupe(arr)))\n",
    "# ['гайка 4 ГОСТ-1828 оцинкованная ...', 'Болты на 10', 'БОЛТ']"
   ]
  },
  {
   "cell_type": "code",
   "execution_count": 5,
   "id": "8c1c2c48",
   "metadata": {},
   "outputs": [
    {
     "data": {
      "text/plain": [
       "('привет', 90)"
      ]
     },
     "execution_count": 5,
     "metadata": {},
     "output_type": "execute_result"
    }
   ],
   "source": [
    "from fuzzywuzzy import process\n",
    "strings = ['привет', 'здравствуйте', 'приветствую', 'хай', 'здорова', 'ку-ку']\n",
    "process.extract(\"Прив\", strings, limit=3)\n",
    "# [('привет', 90), ('приветствую', 90), ('здравствуйте', 45)]\n",
    "process.extractOne(\"Прив\", strings)"
   ]
  },
  {
   "cell_type": "code",
   "execution_count": null,
   "id": "19be1079",
   "metadata": {},
   "outputs": [],
   "source": [
    "# Функция fuzz.ratio – простое посимвольное сравнение.\n",
    "# Рейтинг 100 только если строки полностью равны, любое различие уменьшает рейтинг, \n",
    "# будь то знаки препинания, регистр букв, порядок слов и так далее:\n",
    "\n",
    ">>> fuzz.ratio(\"я люблю спать\", \"я люблю спать\")\n",
    "100\n",
    ">>> fuzz.ratio(\"я люблю спать\", \"Я люблю cпать!\")\n",
    "81\n",
    ">>> fuzz.ratio(\"я люблю спать\", \"я люблю есть\")\n",
    "88\n",
    "Обратите внимание, что рейтинг второго примера ниже, чем у третьего, хотя по смыслу должно быть наоборот.\n",
    "\n",
    "Следующая функция fuzz.token_sort_ratio решает эту проблему. Теперь акцент именно на сами слова, игнорируя регистр букв, порядок слов и даже знаки препинания по краям строки.\n",
    "\n",
    ">>> fuzz.token_sort_ratio(\"я люблю спать\", \"я люблю есть\")\n",
    "56\n",
    ">>> fuzz.token_sort_ratio(\"я люблю спать\", \"Я люблю спать!\")\n",
    "100\n",
    ">>> fuzz.token_sort_ratio(\"я люблю спать\", \"спать люблю я...\")\n",
    "100\n",
    ">>> fuzz.token_sort_ratio(\"Мал да удал\", \"удал да МАЛ\")\n",
    "100\n",
    ">>> fuzz.token_sort_ratio(\"Мал да удал\", \"Да Мал Удал\")\n",
    "100"
   ]
  },
  {
   "cell_type": "code",
   "execution_count": null,
   "id": "e7c40e69",
   "metadata": {},
   "outputs": [],
   "source": [
    "# Функция fuzz.token_set_ratio пошла еще дальше: она игнорирует повторяющиеся слова, учитывает только уникальные.\n",
    "\n",
    ">>> fuzz.token_set_ratio(\"я люблю спать\", \"люблю я спать, спать, спать...\")\n",
    "100\n",
    ">>> fuzz.token_set_ratio(\"я люблю спать\", \"люблю я спать, спать и спать...\")\n",
    "100\n",
    ">>> fuzz.token_set_ratio(\"я люблю спать\", \"но надо работать\")\n",
    "28\n",
    "# повторы в token_sort_ratio роняют рейтинг! \n",
    ">>> fuzz.token_sort_ratio(\"я люблю спать\", \"люблю я спать, спать и спать.\")\n",
    "65\n",
    "# но вот это странно:\n",
    ">>> fuzz.token_set_ratio(\"я люблю спать\", \"люблю я спать, но надо работать\")\n",
    "100\n",
    ">>> fuzz.token_set_ratio(\"я люблю спать\", \"люблю я спать, люблю я есть\")\n",
    "100\n",
    "Последние два примера вернули 100, хотя добавлены новые слова, и это странно. Тут следует вспомнить о fuzz.partial_ratio, которая ведет себя также. А именно, проверяет вхождение одной строки в другую. Лишние слова игнорируются, главное – оценить, чтобы ядро было одно и тоже.\n",
    "\n",
    ">>> fuzz.partial_ratio(\"одно я знаю точно\", \"одно я знаю\")\n",
    "100\n",
    ">>> fuzz.partial_ratio(\"одно я знаю точно\", \"одно я знаю!\")\n",
    "92\n",
    ">>> fuzz.partial_ratio(\"одно я знаю точно\", \"я знаю\")"
   ]
  },
  {
   "cell_type": "code",
   "execution_count": 6,
   "id": "02677a9d",
   "metadata": {},
   "outputs": [
    {
     "data": {
      "text/plain": [
       "95"
      ]
     },
     "execution_count": 6,
     "metadata": {},
     "output_type": "execute_result"
    }
   ],
   "source": [
    "# Еще еще более навороченный метод fuzz.WRatio, который работает ближе к человеческой логике,\n",
    "# комбинируя несколько методов в один алгоритм в определенными весами (отсюда и название WRatio = Weighted Ratio).\n",
    "\n",
    "fuzz.WRatio(\"я люблю спать\", \"люблю Я СПАТЬ!\")\n",
    "# 95\n",
    "fuzz.WRatio(\"я люблю спать\", \"люблю Я СПАТЬ и есть\")\n",
    "# 86\n",
    "fuzz.WRatio(\"я люблю спать\", \"!!СПАТЬ ЛЮБЛЮ Я!!\")"
   ]
  },
  {
   "cell_type": "code",
   "execution_count": 4,
   "id": "827ec167",
   "metadata": {},
   "outputs": [
    {
     "ename": "NameError",
     "evalue": "name 'df' is not defined",
     "output_type": "error",
     "traceback": [
      "\u001b[1;31m---------------------------------------------------------------------------\u001b[0m",
      "\u001b[1;31mNameError\u001b[0m                                 Traceback (most recent call last)",
      "\u001b[1;32m<ipython-input-4-bbde99224fbc>\u001b[0m in \u001b[0;36m<module>\u001b[1;34m\u001b[0m\n\u001b[0;32m      2\u001b[0m     \u001b[0mname\u001b[0m \u001b[1;33m=\u001b[0m \u001b[0mrow\u001b[0m\u001b[1;33m[\u001b[0m\u001b[1;34m'Last/Business Name'\u001b[0m\u001b[1;33m]\u001b[0m\u001b[1;33m\u001b[0m\u001b[1;33m\u001b[0m\u001b[0m\n\u001b[0;32m      3\u001b[0m     \u001b[1;32mreturn\u001b[0m \u001b[0mfuzz\u001b[0m\u001b[1;33m.\u001b[0m\u001b[0mtoken_sort_ratio\u001b[0m\u001b[1;33m(\u001b[0m\u001b[0mname\u001b[0m\u001b[1;33m,\u001b[0m \u001b[1;34m\"Alaska Sea Pilot PAC Fund\"\u001b[0m\u001b[1;33m)\u001b[0m\u001b[1;33m\u001b[0m\u001b[1;33m\u001b[0m\u001b[0m\n\u001b[1;32m----> 4\u001b[1;33m \u001b[0mdf\u001b[0m\u001b[1;33m[\u001b[0m\u001b[0mdf\u001b[0m\u001b[1;33m.\u001b[0m\u001b[0mapply\u001b[0m\u001b[1;33m(\u001b[0m\u001b[0mget_ratio\u001b[0m\u001b[1;33m,\u001b[0m \u001b[0maxis\u001b[0m\u001b[1;33m=\u001b[0m\u001b[1;36m1\u001b[0m\u001b[1;33m)\u001b[0m \u001b[1;33m>\u001b[0m \u001b[1;36m70\u001b[0m\u001b[1;33m]\u001b[0m\u001b[1;33m\u001b[0m\u001b[1;33m\u001b[0m\u001b[0m\n\u001b[0m",
      "\u001b[1;31mNameError\u001b[0m: name 'df' is not defined"
     ]
    }
   ],
   "source": [
    "def get_ratio(row):\n",
    "    name = row['Last/Business Name']\n",
    "    return fuzz.token_sort_ratio(name, \"Alaska Sea Pilot PAC Fund\")\n",
    "\n",
    "df[df.apply(get_ratio, axis=1) > 70]"
   ]
  },
  {
   "cell_type": "code",
   "execution_count": null,
   "id": "7c941c39",
   "metadata": {},
   "outputs": [],
   "source": []
  },
  {
   "cell_type": "code",
   "execution_count": null,
   "id": "6ec77b79",
   "metadata": {},
   "outputs": [],
   "source": []
  },
  {
   "cell_type": "code",
   "execution_count": null,
   "id": "b9afd0c0",
   "metadata": {},
   "outputs": [],
   "source": []
  },
  {
   "cell_type": "code",
   "execution_count": null,
   "id": "2a94efe0",
   "metadata": {},
   "outputs": [],
   "source": []
  },
  {
   "cell_type": "code",
   "execution_count": null,
   "id": "d99b8ec8",
   "metadata": {},
   "outputs": [],
   "source": []
  },
  {
   "cell_type": "code",
   "execution_count": null,
   "id": "4dd2032b",
   "metadata": {},
   "outputs": [],
   "source": []
  },
  {
   "cell_type": "code",
   "execution_count": null,
   "id": "acb82cb2",
   "metadata": {},
   "outputs": [],
   "source": []
  },
  {
   "cell_type": "code",
   "execution_count": null,
   "id": "4e1a4ac6",
   "metadata": {},
   "outputs": [],
   "source": []
  },
  {
   "cell_type": "code",
   "execution_count": null,
   "id": "f8489ba8",
   "metadata": {},
   "outputs": [],
   "source": []
  },
  {
   "cell_type": "code",
   "execution_count": null,
   "id": "3bb3ab50",
   "metadata": {},
   "outputs": [],
   "source": []
  }
 ],
 "metadata": {
  "kernelspec": {
   "display_name": "Python 3",
   "language": "python",
   "name": "python3"
  },
  "language_info": {
   "codemirror_mode": {
    "name": "ipython",
    "version": 3
   },
   "file_extension": ".py",
   "mimetype": "text/x-python",
   "name": "python",
   "nbconvert_exporter": "python",
   "pygments_lexer": "ipython3",
   "version": "3.8.5"
  }
 },
 "nbformat": 4,
 "nbformat_minor": 5
}
